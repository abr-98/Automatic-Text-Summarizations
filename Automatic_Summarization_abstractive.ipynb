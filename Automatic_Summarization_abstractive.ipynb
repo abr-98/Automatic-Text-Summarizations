{
  "nbformat": 4,
  "nbformat_minor": 0,
  "metadata": {
    "colab": {
      "name": "Automatic_Summarization_abstractive.ipynb",
      "provenance": []
    },
    "kernelspec": {
      "name": "python3",
      "display_name": "Python 3"
    }
  },
  "cells": [
    {
      "cell_type": "markdown",
      "metadata": {
        "id": "G_CxCj6ucOGZ",
        "colab_type": "text"
      },
      "source": [
        "### Data Preprocessing"
      ]
    },
    {
      "cell_type": "code",
      "metadata": {
        "id": "h2kfhQBCcNS1",
        "colab_type": "code",
        "colab": {}
      },
      "source": [
        "fldr=\"drive/My Drive/amazon_food_reviews\""
      ],
      "execution_count": 1,
      "outputs": []
    },
    {
      "cell_type": "code",
      "metadata": {
        "id": "GhM6jxVSZb4t",
        "colab_type": "code",
        "colab": {}
      },
      "source": [
        "import os\n",
        "files=os.listdir(fldr)\n"
      ],
      "execution_count": 2,
      "outputs": []
    },
    {
      "cell_type": "code",
      "metadata": {
        "id": "bmcDlr7Vc_dC",
        "colab_type": "code",
        "colab": {
          "base_uri": "https://localhost:8080/",
          "height": 34
        },
        "outputId": "71b499bf-f942-407b-b92d-00813a85fd7c"
      },
      "source": [
        "print(files)"
      ],
      "execution_count": 3,
      "outputs": [
        {
          "output_type": "stream",
          "text": [
            "['Reviews.csv', 'database.sqlite', 'hashes.txt', 'summaries.npy', 'reviews.npy']\n"
          ],
          "name": "stdout"
        }
      ]
    },
    {
      "cell_type": "code",
      "metadata": {
        "id": "_m1ZUfEidB-7",
        "colab_type": "code",
        "colab": {}
      },
      "source": [
        "import pandas as pd\n",
        "df=pd.read_csv(fldr+'/Reviews.csv')"
      ],
      "execution_count": 4,
      "outputs": []
    },
    {
      "cell_type": "code",
      "metadata": {
        "id": "Bd8yh063dNGr",
        "colab_type": "code",
        "colab": {
          "base_uri": "https://localhost:8080/",
          "height": 153
        },
        "outputId": "e293804e-4ae5-417b-81c0-8cfae0cfad79"
      },
      "source": [
        "print(df.head())"
      ],
      "execution_count": 5,
      "outputs": [
        {
          "output_type": "stream",
          "text": [
            "   Id  ...                                               Text\n",
            "0   1  ...  I have bought several of the Vitality canned d...\n",
            "1   2  ...  Product arrived labeled as Jumbo Salted Peanut...\n",
            "2   3  ...  This is a confection that has been around a fe...\n",
            "3   4  ...  If you are looking for the secret ingredient i...\n",
            "4   5  ...  Great taffy at a great price.  There was a wid...\n",
            "\n",
            "[5 rows x 10 columns]\n"
          ],
          "name": "stdout"
        }
      ]
    },
    {
      "cell_type": "code",
      "metadata": {
        "id": "BgPFFBeWdUm5",
        "colab_type": "code",
        "colab": {
          "base_uri": "https://localhost:8080/",
          "height": 683
        },
        "outputId": "79e5016c-974a-439f-e217-a044f45d1ee8"
      },
      "source": [
        "df.head()"
      ],
      "execution_count": 6,
      "outputs": [
        {
          "output_type": "execute_result",
          "data": {
            "text/html": [
              "<div>\n",
              "<style scoped>\n",
              "    .dataframe tbody tr th:only-of-type {\n",
              "        vertical-align: middle;\n",
              "    }\n",
              "\n",
              "    .dataframe tbody tr th {\n",
              "        vertical-align: top;\n",
              "    }\n",
              "\n",
              "    .dataframe thead th {\n",
              "        text-align: right;\n",
              "    }\n",
              "</style>\n",
              "<table border=\"1\" class=\"dataframe\">\n",
              "  <thead>\n",
              "    <tr style=\"text-align: right;\">\n",
              "      <th></th>\n",
              "      <th>Id</th>\n",
              "      <th>ProductId</th>\n",
              "      <th>UserId</th>\n",
              "      <th>ProfileName</th>\n",
              "      <th>HelpfulnessNumerator</th>\n",
              "      <th>HelpfulnessDenominator</th>\n",
              "      <th>Score</th>\n",
              "      <th>Time</th>\n",
              "      <th>Summary</th>\n",
              "      <th>Text</th>\n",
              "    </tr>\n",
              "  </thead>\n",
              "  <tbody>\n",
              "    <tr>\n",
              "      <th>0</th>\n",
              "      <td>1</td>\n",
              "      <td>B001E4KFG0</td>\n",
              "      <td>A3SGXH7AUHU8GW</td>\n",
              "      <td>delmartian</td>\n",
              "      <td>1</td>\n",
              "      <td>1</td>\n",
              "      <td>5</td>\n",
              "      <td>1303862400</td>\n",
              "      <td>Good Quality Dog Food</td>\n",
              "      <td>I have bought several of the Vitality canned d...</td>\n",
              "    </tr>\n",
              "    <tr>\n",
              "      <th>1</th>\n",
              "      <td>2</td>\n",
              "      <td>B00813GRG4</td>\n",
              "      <td>A1D87F6ZCVE5NK</td>\n",
              "      <td>dll pa</td>\n",
              "      <td>0</td>\n",
              "      <td>0</td>\n",
              "      <td>1</td>\n",
              "      <td>1346976000</td>\n",
              "      <td>Not as Advertised</td>\n",
              "      <td>Product arrived labeled as Jumbo Salted Peanut...</td>\n",
              "    </tr>\n",
              "    <tr>\n",
              "      <th>2</th>\n",
              "      <td>3</td>\n",
              "      <td>B000LQOCH0</td>\n",
              "      <td>ABXLMWJIXXAIN</td>\n",
              "      <td>Natalia Corres \"Natalia Corres\"</td>\n",
              "      <td>1</td>\n",
              "      <td>1</td>\n",
              "      <td>4</td>\n",
              "      <td>1219017600</td>\n",
              "      <td>\"Delight\" says it all</td>\n",
              "      <td>This is a confection that has been around a fe...</td>\n",
              "    </tr>\n",
              "    <tr>\n",
              "      <th>3</th>\n",
              "      <td>4</td>\n",
              "      <td>B000UA0QIQ</td>\n",
              "      <td>A395BORC6FGVXV</td>\n",
              "      <td>Karl</td>\n",
              "      <td>3</td>\n",
              "      <td>3</td>\n",
              "      <td>2</td>\n",
              "      <td>1307923200</td>\n",
              "      <td>Cough Medicine</td>\n",
              "      <td>If you are looking for the secret ingredient i...</td>\n",
              "    </tr>\n",
              "    <tr>\n",
              "      <th>4</th>\n",
              "      <td>5</td>\n",
              "      <td>B006K2ZZ7K</td>\n",
              "      <td>A1UQRSCLF8GW1T</td>\n",
              "      <td>Michael D. Bigham \"M. Wassir\"</td>\n",
              "      <td>0</td>\n",
              "      <td>0</td>\n",
              "      <td>5</td>\n",
              "      <td>1350777600</td>\n",
              "      <td>Great taffy</td>\n",
              "      <td>Great taffy at a great price.  There was a wid...</td>\n",
              "    </tr>\n",
              "  </tbody>\n",
              "</table>\n",
              "</div>"
            ],
            "text/plain": [
              "   Id  ...                                               Text\n",
              "0   1  ...  I have bought several of the Vitality canned d...\n",
              "1   2  ...  Product arrived labeled as Jumbo Salted Peanut...\n",
              "2   3  ...  This is a confection that has been around a fe...\n",
              "3   4  ...  If you are looking for the secret ingredient i...\n",
              "4   5  ...  Great taffy at a great price.  There was a wid...\n",
              "\n",
              "[5 rows x 10 columns]"
            ]
          },
          "metadata": {
            "tags": []
          },
          "execution_count": 6
        }
      ]
    },
    {
      "cell_type": "code",
      "metadata": {
        "id": "tFArSl26djr-",
        "colab_type": "code",
        "colab": {
          "base_uri": "https://localhost:8080/",
          "height": 204
        },
        "outputId": "a91c75cf-00c8-4ec8-8716-c0a3cf631859"
      },
      "source": [
        "df.isnull().sum()"
      ],
      "execution_count": 7,
      "outputs": [
        {
          "output_type": "execute_result",
          "data": {
            "text/plain": [
              "Id                         0\n",
              "ProductId                  0\n",
              "UserId                     0\n",
              "ProfileName               16\n",
              "HelpfulnessNumerator       0\n",
              "HelpfulnessDenominator     0\n",
              "Score                      0\n",
              "Time                       0\n",
              "Summary                   27\n",
              "Text                       0\n",
              "dtype: int64"
            ]
          },
          "metadata": {
            "tags": []
          },
          "execution_count": 7
        }
      ]
    },
    {
      "cell_type": "code",
      "metadata": {
        "id": "9dfDDm7IeDI4",
        "colab_type": "code",
        "colab": {}
      },
      "source": [
        "df.dropna(subset=['Summary'],inplace=True)  ###Removing the ones with null Summary"
      ],
      "execution_count": 8,
      "outputs": []
    },
    {
      "cell_type": "code",
      "metadata": {
        "id": "-lnT8lbLeaY7",
        "colab_type": "code",
        "colab": {
          "base_uri": "https://localhost:8080/",
          "height": 204
        },
        "outputId": "b235b5cb-d553-4b94-e967-bd92237c8e1d"
      },
      "source": [
        "df.isnull().sum()"
      ],
      "execution_count": 9,
      "outputs": [
        {
          "output_type": "execute_result",
          "data": {
            "text/plain": [
              "Id                         0\n",
              "ProductId                  0\n",
              "UserId                     0\n",
              "ProfileName               16\n",
              "HelpfulnessNumerator       0\n",
              "HelpfulnessDenominator     0\n",
              "Score                      0\n",
              "Time                       0\n",
              "Summary                    0\n",
              "Text                       0\n",
              "dtype: int64"
            ]
          },
          "metadata": {
            "tags": []
          },
          "execution_count": 9
        }
      ]
    },
    {
      "cell_type": "code",
      "metadata": {
        "id": "cOU0fqb0ecVr",
        "colab_type": "code",
        "colab": {}
      },
      "source": [
        "df_final=df[['Text','Summary']]"
      ],
      "execution_count": 10,
      "outputs": []
    },
    {
      "cell_type": "code",
      "metadata": {
        "id": "2hkwnN2Bemj5",
        "colab_type": "code",
        "colab": {
          "base_uri": "https://localhost:8080/",
          "height": 204
        },
        "outputId": "38b7dca8-9629-4705-9843-70d490e99feb"
      },
      "source": [
        "df_final.head()"
      ],
      "execution_count": 11,
      "outputs": [
        {
          "output_type": "execute_result",
          "data": {
            "text/html": [
              "<div>\n",
              "<style scoped>\n",
              "    .dataframe tbody tr th:only-of-type {\n",
              "        vertical-align: middle;\n",
              "    }\n",
              "\n",
              "    .dataframe tbody tr th {\n",
              "        vertical-align: top;\n",
              "    }\n",
              "\n",
              "    .dataframe thead th {\n",
              "        text-align: right;\n",
              "    }\n",
              "</style>\n",
              "<table border=\"1\" class=\"dataframe\">\n",
              "  <thead>\n",
              "    <tr style=\"text-align: right;\">\n",
              "      <th></th>\n",
              "      <th>Text</th>\n",
              "      <th>Summary</th>\n",
              "    </tr>\n",
              "  </thead>\n",
              "  <tbody>\n",
              "    <tr>\n",
              "      <th>0</th>\n",
              "      <td>I have bought several of the Vitality canned d...</td>\n",
              "      <td>Good Quality Dog Food</td>\n",
              "    </tr>\n",
              "    <tr>\n",
              "      <th>1</th>\n",
              "      <td>Product arrived labeled as Jumbo Salted Peanut...</td>\n",
              "      <td>Not as Advertised</td>\n",
              "    </tr>\n",
              "    <tr>\n",
              "      <th>2</th>\n",
              "      <td>This is a confection that has been around a fe...</td>\n",
              "      <td>\"Delight\" says it all</td>\n",
              "    </tr>\n",
              "    <tr>\n",
              "      <th>3</th>\n",
              "      <td>If you are looking for the secret ingredient i...</td>\n",
              "      <td>Cough Medicine</td>\n",
              "    </tr>\n",
              "    <tr>\n",
              "      <th>4</th>\n",
              "      <td>Great taffy at a great price.  There was a wid...</td>\n",
              "      <td>Great taffy</td>\n",
              "    </tr>\n",
              "  </tbody>\n",
              "</table>\n",
              "</div>"
            ],
            "text/plain": [
              "                                                Text                Summary\n",
              "0  I have bought several of the Vitality canned d...  Good Quality Dog Food\n",
              "1  Product arrived labeled as Jumbo Salted Peanut...      Not as Advertised\n",
              "2  This is a confection that has been around a fe...  \"Delight\" says it all\n",
              "3  If you are looking for the secret ingredient i...         Cough Medicine\n",
              "4  Great taffy at a great price.  There was a wid...            Great taffy"
            ]
          },
          "metadata": {
            "tags": []
          },
          "execution_count": 11
        }
      ]
    },
    {
      "cell_type": "code",
      "metadata": {
        "id": "DzniR020et5c",
        "colab_type": "code",
        "colab": {
          "base_uri": "https://localhost:8080/",
          "height": 85
        },
        "outputId": "47dd9b10-3405-477d-dc44-63bb3cefcbc9"
      },
      "source": [
        "import nltk\n",
        "nltk.download('punkt')\n",
        "nltk.download('stopwords')\n",
        "from nltk.tokenize import sent_tokenize, word_tokenize\n",
        "from nltk.corpus import stopwords\n",
        "\n",
        "stop_words = stopwords.words('english')"
      ],
      "execution_count": 12,
      "outputs": [
        {
          "output_type": "stream",
          "text": [
            "[nltk_data] Downloading package punkt to /root/nltk_data...\n",
            "[nltk_data]   Package punkt is already up-to-date!\n",
            "[nltk_data] Downloading package stopwords to /root/nltk_data...\n",
            "[nltk_data]   Package stopwords is already up-to-date!\n"
          ],
          "name": "stdout"
        }
      ]
    },
    {
      "cell_type": "code",
      "metadata": {
        "id": "fzGLZVOgfWBL",
        "colab_type": "code",
        "colab": {}
      },
      "source": [
        "reviews_cleaned=[]\n",
        "summary_cleaned=[]"
      ],
      "execution_count": 13,
      "outputs": []
    },
    {
      "cell_type": "code",
      "metadata": {
        "id": "Kz9R32d0gmav",
        "colab_type": "code",
        "colab": {}
      },
      "source": [
        "import re\n",
        "def obtain_clean(stop_words):\n",
        "  i=0\n",
        "  summaries=[]\n",
        "  reviews=[]\n",
        "  while i<len(df_final):\n",
        "    sen_sum=\"\"\n",
        "    sen_rev=\"\"\n",
        "    \n",
        "      #print(extract)\n",
        "    clean_review=re.sub(\"[^a-zA-Z0-9]\",\" \",df_final.iloc[i]['Text'])   ## Removing special characters\n",
        "    clean_summary=re.sub(\"[^a-zA-Z0-9]\",\" \",df_final.iloc[i]['Summary'])\n",
        "    #print(clean_sentence)\n",
        "    obtained_rev=word_tokenize(clean_review)\n",
        "    obtained_sum=word_tokenize(clean_summary) \n",
        "      \n",
        "    for word in obtained_rev:\n",
        "        word_final=word.lower()\n",
        "        if word_final not in stop_words:\n",
        "          sen_rev=sen_rev+word_final+' '\n",
        "    \n",
        "    for word in obtained_sum:\n",
        "        word_final=word.lower()\n",
        "        if word_final not in stop_words:\n",
        "          sen_sum=sen_sum+word_final+' '\n",
        "      #print(sen)  \n",
        "    summaries.append(sen_sum)\n",
        "    reviews.append(sen_rev)\n",
        "    i+=1\n",
        "\n",
        "  return summaries,reviews"
      ],
      "execution_count": 14,
      "outputs": []
    },
    {
      "cell_type": "code",
      "metadata": {
        "id": "wZpH9n4Kmagf",
        "colab_type": "code",
        "colab": {}
      },
      "source": [
        "summaries,reviews=obtain_clean(stop_words)"
      ],
      "execution_count": 15,
      "outputs": []
    },
    {
      "cell_type": "code",
      "metadata": {
        "id": "aiZp2JogrPkq",
        "colab_type": "code",
        "colab": {
          "base_uri": "https://localhost:8080/",
          "height": 34
        },
        "outputId": "05644f5b-a7b7-4d0c-ee46-dff065047fee"
      },
      "source": [
        "len(summaries)"
      ],
      "execution_count": 16,
      "outputs": [
        {
          "output_type": "execute_result",
          "data": {
            "text/plain": [
              "568427"
            ]
          },
          "metadata": {
            "tags": []
          },
          "execution_count": 16
        }
      ]
    },
    {
      "cell_type": "code",
      "metadata": {
        "id": "HbGuZh6gwSjA",
        "colab_type": "code",
        "colab": {
          "base_uri": "https://localhost:8080/",
          "height": 34
        },
        "outputId": "dfd76206-aa9e-420c-907f-1f4edc0d87c5"
      },
      "source": [
        "len(reviews)"
      ],
      "execution_count": 17,
      "outputs": [
        {
          "output_type": "execute_result",
          "data": {
            "text/plain": [
              "568427"
            ]
          },
          "metadata": {
            "tags": []
          },
          "execution_count": 17
        }
      ]
    },
    {
      "cell_type": "code",
      "metadata": {
        "id": "XrMOk_WIwUu9",
        "colab_type": "code",
        "colab": {}
      },
      "source": [
        "text_summary=pd.DataFrame(list(zip(reviews,summaries)),columns=['Reviews','Summaries'])"
      ],
      "execution_count": 18,
      "outputs": []
    },
    {
      "cell_type": "code",
      "metadata": {
        "id": "pdouMUcOwqk0",
        "colab_type": "code",
        "colab": {
          "base_uri": "https://localhost:8080/",
          "height": 204
        },
        "outputId": "cf63f8f8-822c-426a-cf2f-8942c7fbb838"
      },
      "source": [
        "text_summary.head()"
      ],
      "execution_count": 19,
      "outputs": [
        {
          "output_type": "execute_result",
          "data": {
            "text/html": [
              "<div>\n",
              "<style scoped>\n",
              "    .dataframe tbody tr th:only-of-type {\n",
              "        vertical-align: middle;\n",
              "    }\n",
              "\n",
              "    .dataframe tbody tr th {\n",
              "        vertical-align: top;\n",
              "    }\n",
              "\n",
              "    .dataframe thead th {\n",
              "        text-align: right;\n",
              "    }\n",
              "</style>\n",
              "<table border=\"1\" class=\"dataframe\">\n",
              "  <thead>\n",
              "    <tr style=\"text-align: right;\">\n",
              "      <th></th>\n",
              "      <th>Reviews</th>\n",
              "      <th>Summaries</th>\n",
              "    </tr>\n",
              "  </thead>\n",
              "  <tbody>\n",
              "    <tr>\n",
              "      <th>0</th>\n",
              "      <td>bought several vitality canned dog food produc...</td>\n",
              "      <td>good quality dog food</td>\n",
              "    </tr>\n",
              "    <tr>\n",
              "      <th>1</th>\n",
              "      <td>product arrived labeled jumbo salted peanuts p...</td>\n",
              "      <td>advertised</td>\n",
              "    </tr>\n",
              "    <tr>\n",
              "      <th>2</th>\n",
              "      <td>confection around centuries light pillowy citr...</td>\n",
              "      <td>delight says</td>\n",
              "    </tr>\n",
              "    <tr>\n",
              "      <th>3</th>\n",
              "      <td>looking secret ingredient robitussin believe f...</td>\n",
              "      <td>cough medicine</td>\n",
              "    </tr>\n",
              "    <tr>\n",
              "      <th>4</th>\n",
              "      <td>great taffy great price wide assortment yummy ...</td>\n",
              "      <td>great taffy</td>\n",
              "    </tr>\n",
              "  </tbody>\n",
              "</table>\n",
              "</div>"
            ],
            "text/plain": [
              "                                             Reviews               Summaries\n",
              "0  bought several vitality canned dog food produc...  good quality dog food \n",
              "1  product arrived labeled jumbo salted peanuts p...             advertised \n",
              "2  confection around centuries light pillowy citr...           delight says \n",
              "3  looking secret ingredient robitussin believe f...         cough medicine \n",
              "4  great taffy great price wide assortment yummy ...            great taffy "
            ]
          },
          "metadata": {
            "tags": []
          },
          "execution_count": 19
        }
      ]
    },
    {
      "cell_type": "code",
      "metadata": {
        "id": "Ok5sE1uSyvwl",
        "colab_type": "code",
        "colab": {
          "base_uri": "https://localhost:8080/",
          "height": 68
        },
        "outputId": "c2de9b93-9795-4519-c7b8-56745a7298c5"
      },
      "source": [
        "text_summary.isnull().sum()"
      ],
      "execution_count": 20,
      "outputs": [
        {
          "output_type": "execute_result",
          "data": {
            "text/plain": [
              "Reviews      0\n",
              "Summaries    0\n",
              "dtype: int64"
            ]
          },
          "metadata": {
            "tags": []
          },
          "execution_count": 20
        }
      ]
    },
    {
      "cell_type": "code",
      "metadata": {
        "id": "Yfl_DBb8wtli",
        "colab_type": "code",
        "colab": {}
      },
      "source": [
        "text=text_summary[['Reviews']].values"
      ],
      "execution_count": 21,
      "outputs": []
    },
    {
      "cell_type": "code",
      "metadata": {
        "id": "J0Kh_QIlxA1u",
        "colab_type": "code",
        "colab": {
          "base_uri": "https://localhost:8080/",
          "height": 173
        },
        "outputId": "56cffa7b-d397-4529-f307-d80408cd04c2"
      },
      "source": [
        "text"
      ],
      "execution_count": 22,
      "outputs": [
        {
          "output_type": "execute_result",
          "data": {
            "text/plain": [
              "array([['bought several vitality canned dog food products found good quality product looks like stew processed meat smells better labrador finicky appreciates product better '],\n",
              "       ['product arrived labeled jumbo salted peanuts peanuts actually small sized unsalted sure error vendor intended represent product jumbo '],\n",
              "       ['confection around centuries light pillowy citrus gelatin nuts case filberts cut tiny squares liberally coated powdered sugar tiny mouthful heaven chewy flavorful highly recommend yummy treat familiar story c lewis lion witch wardrobe treat seduces edmund selling brother sisters witch '],\n",
              "       ...,\n",
              "       ['stars small give 10 15 one training session tried train dog ceaser dog treats made puppy hyper compare ingredients know little stars basic food ingredients without preservatives food coloring sweet potato flavor also make hand smell like dog food '],\n",
              "       ['best treats training rewarding dog good grooming lower calories loved doggies sweet potatoes seem favorite wet noses treat '],\n",
              "       ['satisfied product advertised use cereal raw vinegar general sweetner ']],\n",
              "      dtype=object)"
            ]
          },
          "metadata": {
            "tags": []
          },
          "execution_count": 22
        }
      ]
    },
    {
      "cell_type": "code",
      "metadata": {
        "id": "jCPUeY-8xCoT",
        "colab_type": "code",
        "colab": {}
      },
      "source": [
        "summaries=text_summary[['Summaries']].values"
      ],
      "execution_count": 23,
      "outputs": []
    },
    {
      "cell_type": "code",
      "metadata": {
        "id": "GgEmhY4Jyng9",
        "colab_type": "code",
        "colab": {
          "base_uri": "https://localhost:8080/",
          "height": 136
        },
        "outputId": "7b4ddf40-92ba-4d82-cf78-2c0dd478eaa9"
      },
      "source": [
        "summaries"
      ],
      "execution_count": 24,
      "outputs": [
        {
          "output_type": "execute_result",
          "data": {
            "text/plain": [
              "array([['good quality dog food '],\n",
              "       ['advertised '],\n",
              "       ['delight says '],\n",
              "       ...,\n",
              "       ['perfect maltipoo '],\n",
              "       ['favorite training reward treat '],\n",
              "       ['great honey ']], dtype=object)"
            ]
          },
          "metadata": {
            "tags": []
          },
          "execution_count": 24
        }
      ]
    },
    {
      "cell_type": "code",
      "metadata": {
        "id": "ISaJ21V3ysLX",
        "colab_type": "code",
        "colab": {}
      },
      "source": [
        "from sklearn.model_selection import train_test_split"
      ],
      "execution_count": 25,
      "outputs": []
    },
    {
      "cell_type": "code",
      "metadata": {
        "id": "_hIEdF6Ey5tt",
        "colab_type": "code",
        "colab": {}
      },
      "source": [
        "X_train,X_test,Y_train,Y_test=train_test_split(text_summary['Reviews'],text_summary['Summaries'],test_size=0.2)"
      ],
      "execution_count": 26,
      "outputs": []
    },
    {
      "cell_type": "code",
      "metadata": {
        "id": "2R1ka1_p0KHE",
        "colab_type": "code",
        "colab": {}
      },
      "source": [
        "from tensorflow.keras.preprocessing.text import Tokenizer"
      ],
      "execution_count": 27,
      "outputs": []
    },
    {
      "cell_type": "code",
      "metadata": {
        "id": "jvpUxURU0RGV",
        "colab_type": "code",
        "colab": {}
      },
      "source": [
        "tokenizer = Tokenizer()"
      ],
      "execution_count": 28,
      "outputs": []
    },
    {
      "cell_type": "code",
      "metadata": {
        "id": "9lL8eaPy0UUz",
        "colab_type": "code",
        "colab": {}
      },
      "source": [
        "tokenizer.fit_on_texts(X_train)"
      ],
      "execution_count": 29,
      "outputs": []
    },
    {
      "cell_type": "code",
      "metadata": {
        "id": "gHZ8y2No0qBT",
        "colab_type": "code",
        "colab": {}
      },
      "source": [
        "x_train = tokenizer.texts_to_sequences(X_train) \n",
        "x_test = tokenizer.texts_to_sequences(X_test)"
      ],
      "execution_count": 30,
      "outputs": []
    },
    {
      "cell_type": "code",
      "metadata": {
        "id": "80iAGnp404d3",
        "colab_type": "code",
        "colab": {}
      },
      "source": [
        "from keras.preprocessing.sequence import pad_sequences\n",
        "maxlen=60\n",
        "x_train = pad_sequences(x_train, padding='post', maxlen=maxlen)\n",
        "x_test = pad_sequences(x_test, padding='post', maxlen=maxlen)"
      ],
      "execution_count": 39,
      "outputs": []
    },
    {
      "cell_type": "code",
      "metadata": {
        "id": "2-wPqXYE1GR5",
        "colab_type": "code",
        "colab": {}
      },
      "source": [
        "tokenizer_sum = Tokenizer()\n",
        "tokenizer_sum.fit_on_texts(Y_train)"
      ],
      "execution_count": 40,
      "outputs": []
    },
    {
      "cell_type": "code",
      "metadata": {
        "id": "Ytv7PKnT1Qz5",
        "colab_type": "code",
        "colab": {}
      },
      "source": [
        "y_train = tokenizer_sum.texts_to_sequences(Y_train) \n",
        "y_test = tokenizer_sum.texts_to_sequences(Y_test)"
      ],
      "execution_count": 41,
      "outputs": []
    },
    {
      "cell_type": "code",
      "metadata": {
        "id": "IXl6o4u41ZMw",
        "colab_type": "code",
        "colab": {}
      },
      "source": [
        "from keras.preprocessing.sequence import pad_sequences\n",
        "maxlen=10\n",
        "y_train = pad_sequences(y_train, padding='post', maxlen=maxlen)\n",
        "y_test = pad_sequences(y_test, padding='post', maxlen=maxlen)"
      ],
      "execution_count": 42,
      "outputs": []
    },
    {
      "cell_type": "code",
      "metadata": {
        "id": "DD4dWooR1hS6",
        "colab_type": "code",
        "colab": {}
      },
      "source": [
        "vocab_x=len(tokenizer.word_index)+1"
      ],
      "execution_count": 43,
      "outputs": []
    },
    {
      "cell_type": "code",
      "metadata": {
        "id": "t-YcnrTx1m6A",
        "colab_type": "code",
        "colab": {}
      },
      "source": [
        "vocab_y=len(tokenizer_sum.word_index)+1"
      ],
      "execution_count": 44,
      "outputs": []
    },
    {
      "cell_type": "markdown",
      "metadata": {
        "id": "5jR7uRBL36AM",
        "colab_type": "text"
      },
      "source": [
        "### Taking Embeddings"
      ]
    },
    {
      "cell_type": "code",
      "metadata": {
        "id": "HDDOpyk417NQ",
        "colab_type": "code",
        "colab": {}
      },
      "source": [
        "file_path=\"drive/My Drive/glove.6B/\""
      ],
      "execution_count": 45,
      "outputs": []
    },
    {
      "cell_type": "code",
      "metadata": {
        "id": "prHZ7p674buS",
        "colab_type": "code",
        "colab": {}
      },
      "source": [
        "import numpy as np"
      ],
      "execution_count": 46,
      "outputs": []
    },
    {
      "cell_type": "code",
      "metadata": {
        "id": "ZnBLcz4X4Qb2",
        "colab_type": "code",
        "colab": {}
      },
      "source": [
        "emb_dim=50\n",
        "emb_mat= np.zeros((vocab_x,emb_dim))"
      ],
      "execution_count": 47,
      "outputs": []
    },
    {
      "cell_type": "code",
      "metadata": {
        "id": "6GIRjteF4hGH",
        "colab_type": "code",
        "colab": {}
      },
      "source": [
        "with open(file_path+'glove.6B.50d.txt') as f:\n",
        "        for line in f:\n",
        "            word, *emb = line.split()\n",
        "            if word in tokenizer.word_index:\n",
        "              ind=tokenizer.word_index[word]\n",
        "              emb_mat[ind]=np.array(emb,dtype=\"float32\")[:emb_dim]"
      ],
      "execution_count": 48,
      "outputs": []
    },
    {
      "cell_type": "code",
      "metadata": {
        "id": "PfF4-Ef14thC",
        "colab_type": "code",
        "colab": {}
      },
      "source": [
        "emb_dim=50\n",
        "emb_mat_sum= np.zeros((vocab_y,emb_dim))"
      ],
      "execution_count": 49,
      "outputs": []
    },
    {
      "cell_type": "code",
      "metadata": {
        "id": "nuK8oE-L4xSO",
        "colab_type": "code",
        "colab": {}
      },
      "source": [
        "with open(file_path+'glove.6B.50d.txt') as f:\n",
        "        for line in f:\n",
        "            word, *emb = line.split()\n",
        "            if word in tokenizer_sum.word_index:\n",
        "              ind=tokenizer_sum.word_index[word]\n",
        "              emb_mat_sum[ind]=np.array(emb,dtype=\"float32\")[:emb_dim]"
      ],
      "execution_count": 50,
      "outputs": []
    },
    {
      "cell_type": "markdown",
      "metadata": {
        "id": "5YH4dz504-sd",
        "colab_type": "text"
      },
      "source": [
        "### Modelling"
      ]
    },
    {
      "cell_type": "code",
      "metadata": {
        "id": "8_zgJTPFHq_d",
        "colab_type": "code",
        "colab": {}
      },
      "source": [
        "emb_mat_2= np.zeros((vocab_x,emb_dim))\n",
        "emb_mat_sum_2= np.zeros((vocab_y,emb_dim))"
      ],
      "execution_count": 51,
      "outputs": []
    },
    {
      "cell_type": "code",
      "metadata": {
        "id": "wuqV3LMj472P",
        "colab_type": "code",
        "colab": {}
      },
      "source": [
        "from tensorflow.keras.models import Model\n",
        "from tensorflow.keras.layers import Embedding,Dense, Activation, LSTM, Attention,Concatenate,Input,TimeDistributed\n",
        "from tensorflow.keras.optimizers import Adam\n",
        "emb_dim=50\n",
        "#maxlen=100"
      ],
      "execution_count": 53,
      "outputs": []
    },
    {
      "cell_type": "code",
      "metadata": {
        "id": "lG9mserR5Sq1",
        "colab_type": "code",
        "colab": {}
      },
      "source": [
        "## Encoder\n",
        "encoder_in=Input(shape=(50,))\n",
        "encoder_emb=Embedding(input_dim=vocab_x,output_dim=emb_dim,weights=[emb_mat],input_length=60,trainable=False)(encoder_in)\n",
        "\n",
        "encoder_lstm_1=LSTM(512,return_sequences=True,return_state=True)\n",
        "output_1,state_h,state_c=encoder_lstm_1(encoder_emb)\n",
        "\n",
        "encoder_lstm_2=LSTM(512,return_sequences=True,return_state=True)\n",
        "output_2,state_h,state_c=encoder_lstm_2(output_1)\n",
        "\n",
        "encoder_lstm_3=LSTM(512,return_sequences=True, return_state=True)\n",
        "output_3,state_h,state_c=encoder_lstm_3(output_2)\n",
        "\n",
        "encoder_lstm_4=LSTM(512,return_sequences=True,return_state=True)\n",
        "encoder_output,state_h,state_c=encoder_lstm_4(output_3)\n",
        "\n",
        "\n",
        "## Decoder\n",
        "decoder_in=Input(shape=(50,))\n",
        "decoder_emb=Embedding(input_dim=vocab_y,output_dim=emb_dim,weights=[emb_mat_sum],input_length=10,trainable=False)(decoder_in)\n",
        "\n",
        "decoder_lstm_1=LSTM(512,return_sequences=True,return_state=True)\n",
        "decoder_out_1, state_h_d,state_c_d=decoder_lstm_1(decoder_emb, initial_state=[state_h,state_c])\n",
        "\n",
        "decoder_lstm_2=LSTM(512,return_sequences=True,return_state=True)\n",
        "decoder_out_2, state_h_d,state_c_d=decoder_lstm_2(decoder_out_1)\n",
        "\n",
        "decoder_lstm_3=LSTM(512,return_sequences=True,return_state=True)\n",
        "decoder_output, state_h_d,state_c_d=decoder_lstm_3(decoder_out_2)\n",
        "\n",
        "attention_out=Attention()([encoder_output,decoder_output])\n",
        "\n",
        "concat_out=Concatenate(axis=-1)([decoder_output,attention_out])\n",
        "\n",
        "decoder_softmax=Dense(vocab_y,activation='softmax')\n",
        "outputs=decoder_softmax(concat_out)\n",
        "\n",
        "\n",
        "model=Model([encoder_in,decoder_in],outputs)\n",
        "\n",
        "\n",
        "\n",
        "\n",
        "\n"
      ],
      "execution_count": null,
      "outputs": []
    },
    {
      "cell_type": "code",
      "metadata": {
        "id": "iRw7EidADpLx",
        "colab_type": "code",
        "colab": {
          "base_uri": "https://localhost:8080/",
          "height": 717
        },
        "outputId": "db04929b-350c-4a70-8173-ab74a726edc4"
      },
      "source": [
        "model.summary()"
      ],
      "execution_count": 104,
      "outputs": [
        {
          "output_type": "stream",
          "text": [
            "Model: \"functional_5\"\n",
            "__________________________________________________________________________________________________\n",
            "Layer (type)                    Output Shape         Param #     Connected to                     \n",
            "==================================================================================================\n",
            "input_12 (InputLayer)           [(None, 100)]        0                                            \n",
            "__________________________________________________________________________________________________\n",
            "embedding_11 (Embedding)        (None, 100, 100)     10871500    input_12[0][0]                   \n",
            "__________________________________________________________________________________________________\n",
            "lstm_35 (LSTM)                  [(None, 100, 512), ( 1255424     embedding_11[0][0]               \n",
            "__________________________________________________________________________________________________\n",
            "lstm_36 (LSTM)                  [(None, 100, 512), ( 2099200     lstm_35[0][0]                    \n",
            "__________________________________________________________________________________________________\n",
            "input_13 (InputLayer)           [(None, 100)]        0                                            \n",
            "__________________________________________________________________________________________________\n",
            "lstm_37 (LSTM)                  [(None, 100, 512), ( 2099200     lstm_36[0][0]                    \n",
            "__________________________________________________________________________________________________\n",
            "embedding_12 (Embedding)        (None, 100, 100)     3032400     input_13[0][0]                   \n",
            "__________________________________________________________________________________________________\n",
            "lstm_38 (LSTM)                  [(None, 100, 512), ( 2099200     lstm_37[0][0]                    \n",
            "__________________________________________________________________________________________________\n",
            "lstm_39 (LSTM)                  [(None, 100, 512), ( 1255424     embedding_12[0][0]               \n",
            "                                                                 lstm_38[0][1]                    \n",
            "                                                                 lstm_38[0][2]                    \n",
            "__________________________________________________________________________________________________\n",
            "lstm_40 (LSTM)                  [(None, 100, 512), ( 2099200     lstm_39[0][0]                    \n",
            "__________________________________________________________________________________________________\n",
            "lstm_41 (LSTM)                  [(None, 100, 512), ( 2099200     lstm_40[0][0]                    \n",
            "__________________________________________________________________________________________________\n",
            "attention_5 (Attention)         (None, 100, 512)     0           lstm_38[0][0]                    \n",
            "                                                                 lstm_41[0][0]                    \n",
            "__________________________________________________________________________________________________\n",
            "concatenate_5 (Concatenate)     (None, 100, 1024)    0           lstm_41[0][0]                    \n",
            "                                                                 attention_5[0][0]                \n",
            "__________________________________________________________________________________________________\n",
            "dense_2 (Dense)                 (None, 100, 30324)   31082100    concatenate_5[0][0]              \n",
            "==================================================================================================\n",
            "Total params: 57,992,848\n",
            "Trainable params: 44,088,948\n",
            "Non-trainable params: 13,903,900\n",
            "__________________________________________________________________________________________________\n"
          ],
          "name": "stdout"
        }
      ]
    },
    {
      "cell_type": "code",
      "metadata": {
        "id": "QwWr-GklDr_p",
        "colab_type": "code",
        "colab": {}
      },
      "source": [
        "model.compile(optimizer='adam', loss='sparse_categorical_crossentropy')\n"
      ],
      "execution_count": null,
      "outputs": []
    },
    {
      "cell_type": "code",
      "metadata": {
        "id": "AJPBTF3iDzY_",
        "colab_type": "code",
        "colab": {}
      },
      "source": [
        "history = model.fit([x_train,y_train[:,:-1]], y_train.reshape(y_train[0],y_train[1],1)[:,1,:],epochs=50,verbose=True,batch_size=256)"
      ],
      "execution_count": null,
      "outputs": []
    },
    {
      "cell_type": "code",
      "metadata": {
        "id": "GnNCufrQND17",
        "colab_type": "code",
        "colab": {}
      },
      "source": [
        ""
      ],
      "execution_count": null,
      "outputs": []
    }
  ]
}
